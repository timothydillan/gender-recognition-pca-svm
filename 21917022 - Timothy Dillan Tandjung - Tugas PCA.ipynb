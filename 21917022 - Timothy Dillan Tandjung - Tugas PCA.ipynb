{
 "cells": [
  {
   "cell_type": "markdown",
   "id": "92dc8881",
   "metadata": {},
   "source": [
    "# Tugas PCA\n",
    "## Timothy Dillan Tandjung (NIM: 20917054)"
   ]
  },
  {
   "cell_type": "markdown",
   "id": "99aed912",
   "metadata": {},
   "source": [
    "# Dataset\n",
    "Dataset yang digunakan adalah Movie Conversations yang disediakan di [kaggle](https://www.kaggle.com/cashutosh/gender-classification-dataset).\n",
    "\n",
    "Dataset yang digunakan pada metode ini berasal dari Kaggle, diunggah pada tahun 2019, berisi 23.766 ribu gambar laki-laki, dan 23.243 ribu gambar perempuan. Dataset gambar yang digunakan juga mengandung berbagai macam ekspresi dan ras."
   ]
  },
  {
   "cell_type": "markdown",
   "id": "068d1b83",
   "metadata": {},
   "source": [
    "# Importing Libraries\n",
    "Untuk memulai workflow machine learning pada dataset, beberapa library seperti pandas, numpy, os, sklearn, dan openCV (cv2) akan digunakan untuk melakukan pra pemrosesan pada data serta membuat model untuk mengenali jenis kelamin."
   ]
  },
  {
   "cell_type": "code",
   "execution_count": 1,
   "id": "a5c49eac",
   "metadata": {},
   "outputs": [],
   "source": [
    "import pandas as pd\n",
    "import numpy as np\n",
    "import matplotlib.pyplot as plt\n",
    "import seaborn as sns\n",
    "import os\n",
    "import cv2\n",
    "from sklearn.model_selection import train_test_split\n",
    "from sklearn.preprocessing import StandardScaler\n",
    "from sklearn.decomposition import PCA\n",
    "from sklearn.svm import SVC\n",
    "from sklearn.metrics import classification_report"
   ]
  },
  {
   "cell_type": "markdown",
   "id": "e8463e87",
   "metadata": {},
   "source": [
    "# Prapemrosesan\n",
    "## Gray Scaling, Resize 80x80\n",
    "Dalam proses prapemrosesan, terdapat beberapa tahapan yang dijalankan, yakni gray scaling, resize 80x80, standardization, dan reduksi dimensi. Pada tahap gray scaling, setiap gambar dijadikan hitam putih agar setiap gambar memiliki warna yang terstandardidasi dan mempercepat proses komputasi. Setelah itu, setiap gambar dibentuk ulang ke dalam bentuk 80x80 pixelsnya agar setiap gambar memiliki dimensi yang seragam.\n",
    "Keseragaman dimensi penting dalam tahap ini karena dalam proses pelatihan sebuah model, dibutuhkan dimensi yang seragam untuk keseluruhan input."
   ]
  },
  {
   "cell_type": "code",
   "execution_count": 2,
   "id": "32a666c7",
   "metadata": {},
   "outputs": [],
   "source": [
    "genders = []\n",
    "images = []\n",
    "train_path = 'gender-images'\n",
    "list_of_genders = os.listdir(train_path)\n",
    "\n",
    "# Untuk setiap gender yang ada di dalam dataset,\n",
    "for gender in list_of_genders:\n",
    "    try:\n",
    "        # Ambil nama setiap gambar\n",
    "        pictures = os.listdir(train_path+'/'+gender)\n",
    "    except:\n",
    "        continue\n",
    "    # Dan untuk setiap gambar\n",
    "    for person_img in pictures:\n",
    "        # Load gambarnya\n",
    "        image = cv2.imread(train_path + \"/\" + gender + \"/\" + person_img)    \n",
    "        # Lakukan *gray-scaling* pada gambar\n",
    "        image = cv2.cvtColor(image, cv2.COLOR_BGR2GRAY)\n",
    "        # Resize ukuran menjadi 80x80\n",
    "        image = cv2.resize(image, (80, 80))\n",
    "        # Lalu tambahkan data gambar ke list gambar\n",
    "        images.append(image)\n",
    "        # dan tambahkan corresponding gendernya ke list gender\n",
    "        genders.append(gender)"
   ]
  },
  {
   "cell_type": "code",
   "execution_count": 3,
   "id": "a3a991cc",
   "metadata": {},
   "outputs": [
    {
     "data": {
      "text/plain": [
       "47009"
      ]
     },
     "execution_count": 3,
     "metadata": {},
     "output_type": "execute_result"
    }
   ],
   "source": [
    "len(images)"
   ]
  },
  {
   "cell_type": "code",
   "execution_count": 4,
   "id": "e76d58fd",
   "metadata": {},
   "outputs": [],
   "source": [
    "# Merubah list gambar menjadi bentuk matriks n * 80x80 = 47.009 * 6400\n",
    "# 47.009 merujuk ke jumlah gambar, dan 6400 merujuk ke dimensi setiap gambar.\n",
    "images_arr = np.array(images).reshape(len(images), images[0].shape[0]*images[0].shape[1])"
   ]
  },
  {
   "cell_type": "markdown",
   "id": "6ce0e930",
   "metadata": {},
   "source": [
    "# Standardization \n",
    "Setelah setiap gambar memiliki ukuran yang seragam, standardidasi atau penskalaan data perlu dilakukan agar setiap fitur yang digunakan dapat dibandingkan dengan bobot yang sama (Pedregosa et al., 2021). Penskalaan fitur dilakukan dengan cara mentransformasi setiap nilai pada dataset ke standard scorenya"
   ]
  },
  {
   "cell_type": "code",
   "execution_count": 5,
   "id": "e122d54e",
   "metadata": {},
   "outputs": [],
   "source": [
    "# Split dataset gambar, dengan 70% untuk training dan 30% untuk testing.\n",
    "train_img, test_img, train_lbl, test_lbl = train_test_split(images_arr, genders, test_size=0.3, random_state=1)"
   ]
  },
  {
   "cell_type": "code",
   "execution_count": 6,
   "id": "30df6abf",
   "metadata": {},
   "outputs": [],
   "source": [
    "# Standardidasi dataset, dengan memfitting sebuah model standardidasi dengan data training,\n",
    "# dan lalu mentransformasi data training dan testing.\n",
    "scaler = StandardScaler().fit(train_img)\n",
    "train_img = scaler.transform(train_img)\n",
    "test_img = scaler.transform(test_img)"
   ]
  },
  {
   "attachments": {},
   "cell_type": "markdown",
   "id": "8e33d834",
   "metadata": {},
   "source": [
    "# PCA \n",
    "Lalu, pada tahap terakhir, PCA digunakan untuk mereduksi dimensi dari setiap gambar, dengan 248 principal components (fitur yang akan digunakan untuk pelatihan model) dan jumlah persentase variance yang dipertahankan sebesar 95%. Dengan direduksinya dimensi data menggunakan PCA, variabel redundant dapat dengan mudah dibuang dan model pembelajaran mesin dapat dengan mudah dan cepat dilatih."
   ]
  },
  {
   "cell_type": "code",
   "execution_count": 7,
   "id": "20fba1b2",
   "metadata": {},
   "outputs": [],
   "source": [
    "# Membuat sebuah model PCA dengan data training yang memperthankan 95% persentase variance\n",
    "pca = PCA(n_components=0.95).fit(train_img)"
   ]
  },
  {
   "cell_type": "code",
   "execution_count": 8,
   "id": "f059ce26",
   "metadata": {},
   "outputs": [
    {
     "data": {
      "text/plain": [
       "0.95004"
      ]
     },
     "execution_count": 8,
     "metadata": {},
     "output_type": "execute_result"
    }
   ],
   "source": [
    "# Jumlah persentase variance model PCA\n",
    "round(pca.explained_variance_ratio_.sum(), 5)"
   ]
  },
  {
   "cell_type": "code",
   "execution_count": 9,
   "id": "4c3e38c7",
   "metadata": {},
   "outputs": [],
   "source": [
    "# Transformasi data training dan testing dengan model PCA yang telah dibuat\n",
    "pca_train = pca.transform(train_img)\n",
    "pca_test = pca.transform(test_img)"
   ]
  },
  {
   "cell_type": "code",
   "execution_count": 10,
   "id": "48ed86dc",
   "metadata": {},
   "outputs": [
    {
     "data": {
      "text/plain": [
       "(32906, 248)"
      ]
     },
     "execution_count": 10,
     "metadata": {},
     "output_type": "execute_result"
    }
   ],
   "source": [
    "# Mengecek shape hasil transformasi data training\n",
    "# dapat dilihat bahwa shape data training sekarang berbentuk (32906, 125)\n",
    "# 32906 = jumlah gambar, 125 = jumlah dimensi\n",
    "pca_train.shape"
   ]
  },
  {
   "cell_type": "code",
   "execution_count": 11,
   "id": "618d200e",
   "metadata": {},
   "outputs": [
    {
     "data": {
      "text/plain": [
       "(14103, 248)"
      ]
     },
     "execution_count": 11,
     "metadata": {},
     "output_type": "execute_result"
    }
   ],
   "source": [
    "# Mengecek shape hasil transformasi data training\n",
    "# dapat dilihat bahwa shape data training sekarang berbentuk (14103, 125)\n",
    "# 14103 = jumlah gambar, 125 = jumlah dimensi\n",
    "pca_test.shape"
   ]
  },
  {
   "cell_type": "markdown",
   "id": "948cd1ef",
   "metadata": {},
   "source": [
    "# Pelatihan & Evaluasi Model\n",
    "Setelah tahap prapemrosesan selesai, dataset yang telah diproses dibagi menjadi dua dataset untuk tujuan pelatihan dan evaluasi model. Untuk dataset pelatihan, 70% data dari dataset akan diambil, dan untuk evaluasi model, 30% sisa data dari dataset akan diambil. Lalu, library sklearn digunakan untuk membangun sebuah model SVM dengan parameter bawaan yang dilatih dengan dataset training tersebut. Model SVM yang telah dilatih lalu dievaluasi nilai precision, recall, F1-score, dan akurasinya pada dataset yang telah dikesampingkan."
   ]
  },
  {
   "cell_type": "code",
   "execution_count": 12,
   "id": "eddd57b7",
   "metadata": {},
   "outputs": [],
   "source": [
    "# Melatih model klasifikasi SVM dengan data training yang telah ditransformasi\n",
    "svc_clf = SVC().fit(pca_train, train_lbl)"
   ]
  },
  {
   "cell_type": "code",
   "execution_count": 13,
   "id": "9d40f532",
   "metadata": {},
   "outputs": [],
   "source": [
    "# Mengevaluasi performa model yang telah dilatih dengan mencoba memprediksi data testing\n",
    "# lalu dibandingkan dengan label sesungguhnya\n",
    "svc_clf_report = classification_report(test_lbl, svc_clf.predict(pca_test))"
   ]
  },
  {
   "cell_type": "code",
   "execution_count": 14,
   "id": "9562ec33",
   "metadata": {
    "scrolled": true
   },
   "outputs": [
    {
     "name": "stdout",
     "output_type": "stream",
     "text": [
      "SVM Classifier\n",
      "              precision    recall  f1-score   support\n",
      "\n",
      "      female       0.92      0.91      0.91      6907\n",
      "        male       0.91      0.93      0.92      7196\n",
      "\n",
      "    accuracy                           0.92     14103\n",
      "   macro avg       0.92      0.92      0.92     14103\n",
      "weighted avg       0.92      0.92      0.92     14103\n",
      "\n"
     ]
    }
   ],
   "source": [
    "# Hasil performa model\n",
    "print(\"SVM Classifier\")\n",
    "print(svc_clf_report)"
   ]
  },
  {
   "cell_type": "markdown",
   "id": "7ecb3599",
   "metadata": {},
   "source": [
    "Dapat dilihat bahwa dari laporan evaluasi performa model diatas, model memiliki nilai F1-score sebesar 91% dan 92% untuk klasifikasi perempuan dan laki-laki, serta memiliki rata-rata nilai akurasi sebesar 92%."
   ]
  }
 ],
 "metadata": {
  "kernelspec": {
   "display_name": "Python 3",
   "language": "python",
   "name": "python3"
  },
  "language_info": {
   "codemirror_mode": {
    "name": "ipython",
    "version": 3
   },
   "file_extension": ".py",
   "mimetype": "text/x-python",
   "name": "python",
   "nbconvert_exporter": "python",
   "pygments_lexer": "ipython3",
   "version": "3.8.8"
  }
 },
 "nbformat": 4,
 "nbformat_minor": 5
}
